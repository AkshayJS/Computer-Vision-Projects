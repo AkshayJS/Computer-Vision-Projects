{
  "nbformat": 4,
  "nbformat_minor": 0,
  "metadata": {
    "accelerator": "GPU",
    "colab": {
      "name": "CNN for mnist (less than 10,000 params).ipynb",
      "provenance": [],
      "collapsed_sections": [],
      "authorship_tag": "ABX9TyMmNW6mhXrd+fSEHShxk0zg",
      "include_colab_link": true
    },
    "kernelspec": {
      "display_name": "Python 3",
      "name": "python3"
    },
    "language_info": {
      "name": "python"
    }
  },
  "cells": [
    {
      "cell_type": "markdown",
      "metadata": {
        "id": "view-in-github",
        "colab_type": "text"
      },
      "source": [
        "<a href=\"https://colab.research.google.com/github/AkshayJS/Computer-Vision-Projects/blob/main/CNN_for_mnist_(less_than_10%2C000_params).ipynb\" target=\"_parent\"><img src=\"https://colab.research.google.com/assets/colab-badge.svg\" alt=\"Open In Colab\"/></a>"
      ]
    },
    {
      "cell_type": "code",
      "metadata": {
        "colab": {
          "base_uri": "https://localhost:8080/",
          "height": 295
        },
        "id": "gv96OjhY90Ov",
        "outputId": "63c5730a-6640-4309-b9e4-8a8eda89df78"
      },
      "source": [
        "from tensorflow.keras.datasets import mnist\n",
        "(X_train, y_train),(X_test, y_test) = mnist.load_data()\n",
        "\n",
        "print(\"The MNIST database has a training set of %d examples.\" % len(X_train))\n",
        "print(\"The MNIST database has a test set of %d examples.\" % len(X_test))\n",
        "\n",
        "import matplotlib.pyplot as plt\n",
        "%matplotlib inline\n",
        "import matplotlib.cm as cm\n",
        "import numpy as np\n",
        "\n",
        "# plot first six training images\n",
        "fig = plt.figure(figsize=(20,20))\n",
        "for i in range(6):\n",
        "    ax = fig.add_subplot(1, 6, i+1, xticks=[], yticks=[])\n",
        "    ax.imshow(X_train[i], cmap='gray')\n",
        "    ax.set_title(str(y_train[i]))"
      ],
      "execution_count": 1,
      "outputs": [
        {
          "output_type": "stream",
          "name": "stdout",
          "text": [
            "Downloading data from https://storage.googleapis.com/tensorflow/tf-keras-datasets/mnist.npz\n",
            "11493376/11490434 [==============================] - 0s 0us/step\n",
            "11501568/11490434 [==============================] - 0s 0us/step\n",
            "The MNIST database has a training set of 60000 examples.\n",
            "The MNIST database has a test set of 10000 examples.\n"
          ]
        },
        {
          "output_type": "display_data",
          "data": {
            "image/png": "[encoded data removed]",
            "text/plain": [
              "<Figure size 1440x1440 with 6 Axes>"
            ]
          },
          "metadata": {}
        }
      ]
    },
    {
      "cell_type": "code",
      "metadata": {
        "colab": {
          "base_uri": "https://localhost:8080/"
        },
        "id": "QOBXKs3h-MN4",
        "outputId": "b354ec9c-d08b-4b50-a631-1090522bfcf9"
      },
      "source": [
        "X_train = X_train.astype('float32')/255\n",
        "X_test = X_test.astype('float32')/255\n",
        "print('X_train shape:', X_train.shape)\n",
        "print(X_train.shape[0], 'train samples')\n",
        "print(X_test.shape[0], 'test samples')"
      ],
      "execution_count": 2,
      "outputs": [
        {
          "output_type": "stream",
          "name": "stdout",
          "text": [
            "X_train shape: (60000, 28, 28)\n",
            "60000 train samples\n",
            "10000 test samples\n"
          ]
        }
      ]
    },
    {
      "cell_type": "code",
      "metadata": {
        "id": "dvtFlUF--PIJ"
      },
      "source": [
        "from keras.utils import np_utils\n",
        "y_train = np_utils.to_categorical(y_train, 10)\n",
        "y_test = np_utils.to_categorical(y_test, 10)"
      ],
      "execution_count": 3,
      "outputs": []
    },
    {
      "cell_type": "code",
      "metadata": {
        "id": "T9WqPazz-Tne"
      },
      "source": [
        "X_train = X_train.reshape(X_train.shape[0], 28, 28, 1)\n",
        "X_test = X_test.reshape(X_test.shape[0], 28, 28, 1)"
      ],
      "execution_count": 4,
      "outputs": []
    },
    {
      "cell_type": "code",
      "metadata": {
        "colab": {
          "base_uri": "https://localhost:8080/"
        },
        "id": "EXpmpu5l-WTy",
        "outputId": "2bbe430b-1792-482a-a9f5-7dbbdf857417"
      },
      "source": [
        "from tensorflow.keras.models import Sequential\n",
        "from tensorflow.keras.layers import Conv2D,MaxPool2D, Flatten, Dense\n",
        "model = Sequential()\n",
        "model.add(Conv2D(32,kernel_size=(3,3),padding='valid',activation='relu',input_shape=(28,28,1)))\n",
        "model.add(Conv2D(32,kernel_size=(3,3),padding='valid',activation='relu'))\n",
        "model.add(MaxPool2D(pool_size=(2,2)))\n",
        "model.add(Conv2D(32,kernel_size=(3,3),padding='valid',activation='relu'))\n",
        "model.add(Conv2D(32,kernel_size=(3,3),padding='valid',activation='relu'))\n",
        "model.add(Conv2D(64,kernel_size=(3,3),padding='valid',activation='relu'))\n",
        "model.add(Conv2D(64,kernel_size=(3,3),padding='valid',activation='relu'))\n",
        "model.add(Conv2D(10,kernel_size=(4,4),padding='valid',activation='softmax'))\n",
        "\n",
        "model.add(Flatten())\n",
        "model.summary()"
      ],
      "execution_count": 5,
      "outputs": [
        {
          "output_type": "stream",
          "name": "stdout",
          "text": [
            "Model: \"sequential\"\n",
            "_________________________________________________________________\n",
            "Layer (type)                 Output Shape              Param #   \n",
            "=================================================================\n",
            "conv2d (Conv2D)              (None, 26, 26, 32)        320       \n",
            "_________________________________________________________________\n",
            "conv2d_1 (Conv2D)            (None, 24, 24, 32)        9248      \n",
            "_________________________________________________________________\n",
            "max_pooling2d (MaxPooling2D) (None, 12, 12, 32)        0         \n",
            "_________________________________________________________________\n",
            "conv2d_2 (Conv2D)            (None, 10, 10, 32)        9248      \n",
            "_________________________________________________________________\n",
            "conv2d_3 (Conv2D)            (None, 8, 8, 32)          9248      \n",
            "_________________________________________________________________\n",
            "conv2d_4 (Conv2D)            (None, 6, 6, 64)          18496     \n",
            "_________________________________________________________________\n",
            "conv2d_5 (Conv2D)            (None, 4, 4, 64)          36928     \n",
            "_________________________________________________________________\n",
            "conv2d_6 (Conv2D)            (None, 1, 1, 10)          10250     \n",
            "_________________________________________________________________\n",
            "flatten (Flatten)            (None, 10)                0         \n",
            "=================================================================\n",
            "Total params: 93,738\n",
            "Trainable params: 93,738\n",
            "Non-trainable params: 0\n",
            "_________________________________________________________________\n"
          ]
        }
      ]
    },
    {
      "cell_type": "code",
      "metadata": {
        "id": "21eeS2zN-g7t"
      },
      "source": [
        "model.compile(loss='categorical_crossentropy', optimizer='adam', \n",
        "              metrics=['accuracy'])"
      ],
      "execution_count": null,
      "outputs": []
    },
    {
      "cell_type": "code",
      "metadata": {
        "colab": {
          "background_save": true,
          "base_uri": "https://localhost:8080/"
        },
        "id": "Kbj5BUeq_8D7",
        "outputId": "82f7722e-56ae-4593-9994-be4777ac05a3"
      },
      "source": [
        "from tensorflow.keras.callbacks import ModelCheckpoint   \n",
        "\n",
        "# train the model\n",
        "checkpointer = ModelCheckpoint(filepath='model.weights.best.hdf5', verbose=1, \n",
        "                               save_best_only=True)\n",
        "hist = model.fit(X_train, y_train, batch_size=64, epochs=10,\n",
        "          validation_data=(X_test, y_test), callbacks=[checkpointer], \n",
        "          verbose=2, shuffle=True)"
      ],
      "execution_count": null,
      "outputs": [
        {
          "name": "stdout",
          "output_type": "stream",
          "text": [
            "Epoch 1/10\n",
            "938/938 - 118s - loss: 0.1828 - accuracy: 0.9418 - val_loss: 0.0699 - val_accuracy: 0.9758\n",
            "\n",
            "Epoch 00001: val_loss improved from inf to 0.06986, saving model to model.weights.best.hdf5\n",
            "Epoch 2/10\n",
            "938/938 - 115s - loss: 0.0478 - accuracy: 0.9855 - val_loss: 0.0502 - val_accuracy: 0.9849\n",
            "\n",
            "Epoch 00002: val_loss improved from 0.06986 to 0.05017, saving model to model.weights.best.hdf5\n",
            "Epoch 3/10\n",
            "938/938 - 115s - loss: 0.0347 - accuracy: 0.9894 - val_loss: 0.0280 - val_accuracy: 0.9907\n",
            "\n",
            "Epoch 00003: val_loss improved from 0.05017 to 0.02799, saving model to model.weights.best.hdf5\n",
            "Epoch 4/10\n",
            "938/938 - 116s - loss: 0.0277 - accuracy: 0.9915 - val_loss: 0.0282 - val_accuracy: 0.9922\n",
            "\n",
            "Epoch 00004: val_loss did not improve from 0.02799\n",
            "Epoch 5/10\n",
            "938/938 - 115s - loss: 0.0238 - accuracy: 0.9930 - val_loss: 0.0261 - val_accuracy: 0.9929\n",
            "\n",
            "Epoch 00005: val_loss improved from 0.02799 to 0.02608, saving model to model.weights.best.hdf5\n",
            "Epoch 6/10\n",
            "938/938 - 115s - loss: 0.0204 - accuracy: 0.9940 - val_loss: 0.0563 - val_accuracy: 0.9856\n",
            "\n",
            "Epoch 00006: val_loss did not improve from 0.02608\n",
            "Epoch 7/10\n",
            "938/938 - 115s - loss: 0.0175 - accuracy: 0.9948 - val_loss: 0.0528 - val_accuracy: 0.9879\n",
            "\n",
            "Epoch 00007: val_loss did not improve from 0.02608\n",
            "Epoch 8/10\n",
            "938/938 - 115s - loss: 0.0165 - accuracy: 0.9954 - val_loss: 0.0364 - val_accuracy: 0.9916\n",
            "\n",
            "Epoch 00008: val_loss did not improve from 0.02608\n",
            "Epoch 9/10\n",
            "938/938 - 115s - loss: 0.0149 - accuracy: 0.9959 - val_loss: 0.0245 - val_accuracy: 0.9935\n",
            "\n",
            "Epoch 00009: val_loss improved from 0.02608 to 0.02454, saving model to model.weights.best.hdf5\n",
            "Epoch 10/10\n",
            "938/938 - 115s - loss: 0.0140 - accuracy: 0.9961 - val_loss: 0.0375 - val_accuracy: 0.9921\n",
            "\n",
            "Epoch 00010: val_loss did not improve from 0.02454\n"
          ]
        }
      ]
    },
    {
      "cell_type": "code",
      "metadata": {
        "colab": {
          "base_uri": "https://localhost:8080/"
        },
        "id": "5mzSjq9nAAcI",
        "outputId": "e2cd41ec-ce90-4b03-f55a-3ec1826fc2a3"
      },
      "source": [
        "model.load_weights(\"model.weights.best.hdf5\")\n",
        "_, acc = model.evaluate(X_test, y_test, verbose=0)\n",
        "print(f'Model Accuracy: {acc*100:.4f}%')"
      ],
      "execution_count": null,
      "outputs": [
        {
          "name": "stdout",
          "output_type": "stream",
          "text": [
            "Model Accuracy: 99.3600%\n"
          ]
        }
      ]
    }
  ]
}